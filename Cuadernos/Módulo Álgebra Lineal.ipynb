{
 "cells": [
  {
   "cell_type": "markdown",
   "metadata": {
    "toc": true
   },
   "source": [
    "<h1>Álgebra Lineal<span class=\"tocSkip\"></span></h1>\n",
    "<div class=\"toc\"><ul class=\"toc-item\"><li><span><a href=\"#Matrices\" data-toc-modified-id=\"Matrices-1\"><span class=\"toc-item-num\">1&nbsp;&nbsp;</span>Matrices</a></span><ul class=\"toc-item\"><li><span><a href=\"#Propiedades-de-la-matriz-y-algunas-matrices-elementales\" data-toc-modified-id=\"Propiedades-de-la-matriz-y-algunas-matrices-elementales-1.1\"><span class=\"toc-item-num\">1.1&nbsp;&nbsp;</span>Propiedades de la matriz y algunas matrices elementales</a></span></li><li><span><a href=\"#Suma-y-resta\" data-toc-modified-id=\"Suma-y-resta-1.2\"><span class=\"toc-item-num\">1.2&nbsp;&nbsp;</span>Suma y resta</a></span></li><li><span><a href=\"#Ejemplo:\" data-toc-modified-id=\"Ejemplo:-1.3\"><span class=\"toc-item-num\">1.3&nbsp;&nbsp;</span>Ejemplo:</a></span><ul class=\"toc-item\"><li><span><a href=\"#Solución:\" data-toc-modified-id=\"Solución:-1.3.1\"><span class=\"toc-item-num\">1.3.1&nbsp;&nbsp;</span>Solución:</a></span></li></ul></li><li><span><a href=\"#Multiplicación-por-escalar\" data-toc-modified-id=\"Multiplicación-por-escalar-1.4\"><span class=\"toc-item-num\">1.4&nbsp;&nbsp;</span>Multiplicación por escalar</a></span></li><li><span><a href=\"#Ejemplo:\" data-toc-modified-id=\"Ejemplo:-1.5\"><span class=\"toc-item-num\">1.5&nbsp;&nbsp;</span>Ejemplo:</a></span><ul class=\"toc-item\"><li><span><a href=\"#Solución:\" data-toc-modified-id=\"Solución:-1.5.1\"><span class=\"toc-item-num\">1.5.1&nbsp;&nbsp;</span>Solución:</a></span></li></ul></li><li><span><a href=\"#Transpuesta\" data-toc-modified-id=\"Transpuesta-1.6\"><span class=\"toc-item-num\">1.6&nbsp;&nbsp;</span>Transpuesta</a></span></li><li><span><a href=\"#Multiplicación\" data-toc-modified-id=\"Multiplicación-1.7\"><span class=\"toc-item-num\">1.7&nbsp;&nbsp;</span>Multiplicación</a></span></li><li><span><a href=\"#Ejercicio\" data-toc-modified-id=\"Ejercicio-1.8\"><span class=\"toc-item-num\">1.8&nbsp;&nbsp;</span>Ejercicio</a></span></li><li><span><a href=\"#Matrices-Inversas\" data-toc-modified-id=\"Matrices-Inversas-1.9\"><span class=\"toc-item-num\">1.9&nbsp;&nbsp;</span>Matrices Inversas</a></span></li></ul></li><li><span><a href=\"#Resolución-de-sistemas-de-ecuaciones-lineales\" data-toc-modified-id=\"Resolución-de-sistemas-de-ecuaciones-lineales-2\"><span class=\"toc-item-num\">2&nbsp;&nbsp;</span>Resolución de sistemas de ecuaciones lineales</a></span><ul class=\"toc-item\"><li><span><a href=\"#Método-de-eliminación-de-Gauss-Jordan\" data-toc-modified-id=\"Método-de-eliminación-de-Gauss-Jordan-2.1\"><span class=\"toc-item-num\">2.1&nbsp;&nbsp;</span>Método de eliminación de Gauss Jordan</a></span><ul class=\"toc-item\"><li><span><a href=\"#Operaciones-elementales-de-fila\" data-toc-modified-id=\"Operaciones-elementales-de-fila-2.1.1\"><span class=\"toc-item-num\">2.1.1&nbsp;&nbsp;</span>Operaciones elementales de fila</a></span></li><li><span><a href=\"#Algoritmo\" data-toc-modified-id=\"Algoritmo-2.1.2\"><span class=\"toc-item-num\">2.1.2&nbsp;&nbsp;</span>Algoritmo</a></span></li><li><span><a href=\"#Ejemplos:\" data-toc-modified-id=\"Ejemplos:-2.1.3\"><span class=\"toc-item-num\">2.1.3&nbsp;&nbsp;</span>Ejemplos:</a></span></li></ul></li><li><span><a href=\"#Ahora-con-Python\" data-toc-modified-id=\"Ahora-con-Python-2.2\"><span class=\"toc-item-num\">2.2&nbsp;&nbsp;</span>Ahora con Python</a></span></li></ul></li><li><span><a href=\"#Determinantes\" data-toc-modified-id=\"Determinantes-3\"><span class=\"toc-item-num\">3&nbsp;&nbsp;</span>Determinantes</a></span><ul class=\"toc-item\"><li><span><a href=\"#¿Cómo-se-calcula?\" data-toc-modified-id=\"¿Cómo-se-calcula?-3.1\"><span class=\"toc-item-num\">3.1&nbsp;&nbsp;</span>¿Cómo se calcula?</a></span></li><li><span><a href=\"#¿Qué-pasa-si-la-matriz-es-de-mayor-orden?\" data-toc-modified-id=\"¿Qué-pasa-si-la-matriz-es-de-mayor-orden?-3.2\"><span class=\"toc-item-num\">3.2&nbsp;&nbsp;</span>¿Qué pasa si la matriz es de mayor orden?</a></span><ul class=\"toc-item\"><li><span><a href=\"#Algoritmo\" data-toc-modified-id=\"Algoritmo-3.2.1\"><span class=\"toc-item-num\">3.2.1&nbsp;&nbsp;</span>Algoritmo</a></span></li></ul></li><li><span><a href=\"#Ejercicios:\" data-toc-modified-id=\"Ejercicios:-3.3\"><span class=\"toc-item-num\">3.3&nbsp;&nbsp;</span>Ejercicios:</a></span></li><li><span><a href=\"#¿Cómo-lo-hago-en-Python?\" data-toc-modified-id=\"¿Cómo-lo-hago-en-Python?-3.4\"><span class=\"toc-item-num\">3.4&nbsp;&nbsp;</span>¿Cómo lo hago en Python?</a></span><ul class=\"toc-item\"><li><span><a href=\"#Ejercicio\" data-toc-modified-id=\"Ejercicio-3.4.1\"><span class=\"toc-item-num\">3.4.1&nbsp;&nbsp;</span>Ejercicio</a></span></li></ul></li><li><span><a href=\"#¿Cómo-puedo-aplicar-los-determinantes?\" data-toc-modified-id=\"¿Cómo-puedo-aplicar-los-determinantes?-3.5\"><span class=\"toc-item-num\">3.5&nbsp;&nbsp;</span>¿Cómo puedo aplicar los determinantes?</a></span><ul class=\"toc-item\"><li><span><a href=\"#Ejemplo:\" data-toc-modified-id=\"Ejemplo:-3.5.1\"><span class=\"toc-item-num\">3.5.1&nbsp;&nbsp;</span>Ejemplo:</a></span></li></ul></li><li><span><a href=\"#¿Se-puede-hallar-la-solución-del-sistema-utilizando-determinantes?\" data-toc-modified-id=\"¿Se-puede-hallar-la-solución-del-sistema-utilizando-determinantes?-3.6\"><span class=\"toc-item-num\">3.6&nbsp;&nbsp;</span>¿Se puede hallar la solución del sistema utilizando determinantes?</a></span><ul class=\"toc-item\"><li><span><a href=\"#Ejemplo:\" data-toc-modified-id=\"Ejemplo:-3.6.1\"><span class=\"toc-item-num\">3.6.1&nbsp;&nbsp;</span>Ejemplo:</a></span></li><li><span><a href=\"#Problema\" data-toc-modified-id=\"Problema-3.6.2\"><span class=\"toc-item-num\">3.6.2&nbsp;&nbsp;</span>Problema</a></span></li><li><span><a href=\"#Solución\" data-toc-modified-id=\"Solución-3.6.3\"><span class=\"toc-item-num\">3.6.3&nbsp;&nbsp;</span>Solución</a></span></li></ul></li></ul></li></ul></div>"
   ]
  },
  {
   "cell_type": "markdown",
   "metadata": {},
   "source": [
    " <div style=\"background-color: #023324; \"><p><br></p>\n",
    "    <img src=\"https://www.uexternado.edu.co/wp-content/themes/externado_theme/images/logo-uec.svg\" alt=\"Universidad Externado\" width=\"150\" align=\"left\">\n",
    "         <h1  style=\"color: white;font-family:Lucida Sans Unicode, Lucida Grande, sans-serif\" align=\"center\">Álgebra Lineal - Fundamentos     </h1> \n",
    "<p><br></p>\n",
    "</div>    \n",
    "\n",
    "\n",
    "<p><br></p>\n",
    "\n",
    "Pensemos en la siguiente situación:\n",
    "\n",
    "<img width=100% src=\"https://raw.githubusercontent.com/MCG-Externado/MCG2/master/images/sitalg.jpg\">\n",
    "\n",
    "Cada uno de los vendedores entregarán tablas como las siguientes:\n",
    "<table >\n",
    "  <tr>\n",
    "    <th style=\"background-color:tomato; color:white\">Vendedor 1</th>\n",
    "    <th>Lunes</th>      \n",
    "    <th>Martes</th>\n",
    "    <th>Miércoles</th>\n",
    "    <th>Jueves</th>\n",
    "    <th>Viernes</th>\n",
    "  </tr>\n",
    "  <tr>\n",
    "    <td> <b>Producto1</b> </td>\n",
    "    <td>30</td>\n",
    "    <td>50</td>\n",
    "    <td>40</td>\n",
    "    <td>20</td>\n",
    "    <td>50</td>\n",
    "  </tr>\n",
    "\n",
    "  <tr>\n",
    "    <td> <b>Producto1</b> </td>\n",
    "    <td>35</td>\n",
    "    <td>25</td>\n",
    "    <td>45</td>\n",
    "    <td>15</td>\n",
    "    <td>20</td>\n",
    "  </tr>\n",
    "    \n",
    "  <tr>\n",
    "    <td> <b>Producto1</b> </td>\n",
    "    <td>30</td>\n",
    "    <td>10</td>\n",
    "    <td>25</td>\n",
    "    <td>25</td>\n",
    "    <td>15</td>\n",
    "  </tr>\n",
    "  \n",
    "</table>\n",
    "<table >\n",
    "  <tr>\n",
    "    <th style=\"background-color:slateblue; color:white\">Vendedor 2</th>\n",
    "    <th>Lunes</th>      \n",
    "    <th>Martes</th>\n",
    "    <th>Miércoles</th>\n",
    "    <th>Jueves</th>\n",
    "    <th>Viernes</th>\n",
    "  </tr>\n",
    "  <tr>\n",
    "    <td> <b>Producto1</b> </td>\n",
    "    <td>10</td>\n",
    "    <td>70</td>\n",
    "    <td>30</td>\n",
    "    <td>60</td>\n",
    "    <td>20</td>\n",
    "  </tr>\n",
    "\n",
    "  <tr>\n",
    "    <td> <b>Producto1</b> </td>\n",
    "    <td>35</td>\n",
    "    <td>25</td>\n",
    "    <td>75</td>\n",
    "    <td>25</td>\n",
    "    <td>45</td>\n",
    "  </tr>\n",
    "    \n",
    "  <tr>\n",
    "    <td> <b>Producto1</b> </td>\n",
    "    <td>35</td>\n",
    "    <td>15</td>\n",
    "    <td>15</td>\n",
    "    <td>15</td>\n",
    "    <td>25</td>\n",
    "  </tr>\n",
    "  \n",
    "</table>\n",
    "<ul>\n",
    "<li > ¿Cómo sintetiza la información entregada por los dos vendedores?</li>\n",
    "<li > ¿Obtendría una información similar?</li>\n",
    "<li > ¿Cómo expresaría la diferencia de ventas entre vendedores de acuerdo al día de la semana?</li>\n",
    "<li > ¿Cómo expresaría las ventas de la distribuidora en esa semana si quiere evaluar el desempeño diario de sus vendedores?</li>\n",
    "</ul>\n",
    "\n",
    " Esperamos que tratando de responder las anteriores preguntas hayan surgido varias ideas, sin embargo, teniendo en cuenta que hablamos de productos diferentes en días distintos un ejercicio conveniente es presentar una tabla de las mismas <b>dimensiones</b> tanto para presentar el informe totalizado de ventas como para presentar el desempeño de cada vendedor y su diferencia. Es claro que la suma se hace <b>componente a componente</b> y la tabla se estructura como un elemento que se puede <i>\"sumar\"</i>  y  <i>\"restar\"</i>. Este elemnto se abstrae con el concepto de matriz, una generalización de lo que conocemos como tablas con la posibilidad de dotarlas con operaciones algebraicas. "
   ]
  },
  {
   "cell_type": "markdown",
   "metadata": {},
   "source": [
    "## Matrices\n",
    "\n",
    "Una matriz es un arreglo bidimensional, en Python se representa como una lista de listas y es preferible usar *array* del paquete **numpy** para poder hacer todo tipo de operaciones matriciales. \n",
    "\n",
    "Escribimos primero\n",
    "\n",
    "*import numpy as np*, \n",
    "\n",
    "con el fin de llamar todas las funciones de numpy con el prefijo np.*funcion*. "
   ]
  },
  {
   "cell_type": "code",
   "execution_count": 1,
   "metadata": {},
   "outputs": [],
   "source": [
    "import numpy as np"
   ]
  },
  {
   "cell_type": "markdown",
   "metadata": {
    "colab_type": "text",
    "id": "y-prIP0H45lt"
   },
   "source": [
    "Veamos algunos ejemplos, dos matrices 3x3 A y B (observe que cada lista se define con corchetes \"[\", \"]\", para nuestro caso, como es una arreglo bidimensional usamos dos niveles de corchetes para lograr la lista de listas):"
   ]
  },
  {
   "cell_type": "code",
   "execution_count": 2,
   "metadata": {
    "colab": {},
    "colab_type": "code",
    "id": "vkDs1QfB49R0"
   },
   "outputs": [],
   "source": [
    "A = np.array([[1, 3, 2],\n",
    "              [1, 0, 0],\n",
    "              [1, 2, 2]])\n",
    "\n",
    "B = np.array([[1, 0, 5],\n",
    "              [7, 5, 0],\n",
    "              [2, 1, 1]])"
   ]
  },
  {
   "cell_type": "code",
   "execution_count": 3,
   "metadata": {
    "colab": {
     "base_uri": "https://localhost:8080/",
     "height": 68
    },
    "colab_type": "code",
    "id": "jhUEionJ5Buk",
    "outputId": "3254a888-f64e-4ca1-c269-0bdd8bc61549"
   },
   "outputs": [
    {
     "data": {
      "text/plain": [
       "array([[1, 3, 2],\n",
       "       [1, 0, 0],\n",
       "       [1, 2, 2]])"
      ]
     },
     "execution_count": 3,
     "metadata": {},
     "output_type": "execute_result"
    }
   ],
   "source": [
    "A"
   ]
  },
  {
   "cell_type": "code",
   "execution_count": 4,
   "metadata": {
    "colab": {
     "base_uri": "https://localhost:8080/",
     "height": 68
    },
    "colab_type": "code",
    "id": "ya2LV1mt5JIL",
    "outputId": "3fd3f82c-3721-4faf-d8d1-4fed6b893cc1"
   },
   "outputs": [
    {
     "data": {
      "text/plain": [
       "array([[1, 0, 5],\n",
       "       [7, 5, 0],\n",
       "       [2, 1, 1]])"
      ]
     },
     "execution_count": 4,
     "metadata": {},
     "output_type": "execute_result"
    }
   ],
   "source": [
    "B"
   ]
  },
  {
   "cell_type": "markdown",
   "metadata": {
    "colab_type": "text",
    "id": "rftyZ7Ol9IIr"
   },
   "source": [
    "### Propiedades de la matriz y algunas matrices elementales\n",
    "\n",
    "La cantidad de elementos y el tamaño son  algunas propiedades de cualquier matriz, en Python contamos con funciones para encontrar esos valores y además tenemos la oportunidad de crear algunas matrices elementales.\n",
    "\n",
    "> Para las propiedades elementales escribimos el nombre de la matriz y luego la función: \n",
    "> * **Dimensión:**     [*nombre de la matriz*].*shape*\n",
    "> * **Cantidad de elementos:**     [*nombre de la matriz*].*size*\n",
    "\n",
    "> Para las matrices elementales usamos el paqueter **numpy**:\n",
    "> *  **Matriz de unos de mxn:** *np.ones([m,n])*\n",
    "> *  **Matriz de ceros de mxn:** *np.zeros([m,n])*\n",
    "> *  **Matriz idéntidad de nxn:** *np.identity(n)*\n"
   ]
  },
  {
   "cell_type": "code",
   "execution_count": 5,
   "metadata": {
    "colab": {
     "base_uri": "https://localhost:8080/",
     "height": 34
    },
    "colab_type": "code",
    "id": "Hkc4SJmDDfOZ",
    "outputId": "2146c1f2-c6f2-47f1-fba9-547cbde5c049"
   },
   "outputs": [
    {
     "data": {
      "text/plain": [
       "(3, 3)"
      ]
     },
     "execution_count": 5,
     "metadata": {},
     "output_type": "execute_result"
    }
   ],
   "source": [
    "A.shape"
   ]
  },
  {
   "cell_type": "code",
   "execution_count": 6,
   "metadata": {
    "colab": {
     "base_uri": "https://localhost:8080/",
     "height": 34
    },
    "colab_type": "code",
    "id": "CTHWo-RPGTJx",
    "outputId": "ce21cd68-d346-433e-8d5a-7da4cfef974a"
   },
   "outputs": [
    {
     "data": {
      "text/plain": [
       "9"
      ]
     },
     "execution_count": 6,
     "metadata": {},
     "output_type": "execute_result"
    }
   ],
   "source": [
    "B.size"
   ]
  },
  {
   "cell_type": "code",
   "execution_count": 7,
   "metadata": {
    "colab": {
     "base_uri": "https://localhost:8080/",
     "height": 85
    },
    "colab_type": "code",
    "id": "el5OBW2zGVR2",
    "outputId": "2c9b1ca2-5964-426a-fde6-e6ab310f242f"
   },
   "outputs": [
    {
     "data": {
      "text/plain": [
       "array([[1., 1., 1., 1., 1.],\n",
       "       [1., 1., 1., 1., 1.],\n",
       "       [1., 1., 1., 1., 1.],\n",
       "       [1., 1., 1., 1., 1.]])"
      ]
     },
     "execution_count": 7,
     "metadata": {},
     "output_type": "execute_result"
    }
   ],
   "source": [
    "np.ones([4,5])"
   ]
  },
  {
   "cell_type": "code",
   "execution_count": 8,
   "metadata": {
    "colab": {
     "base_uri": "https://localhost:8080/",
     "height": 68
    },
    "colab_type": "code",
    "id": "Oj34nuv9GaQt",
    "outputId": "14da74a3-9de1-4d0d-93b7-63ed637a4392"
   },
   "outputs": [
    {
     "data": {
      "text/plain": [
       "array([[0., 0.],\n",
       "       [0., 0.],\n",
       "       [0., 0.]])"
      ]
     },
     "execution_count": 8,
     "metadata": {},
     "output_type": "execute_result"
    }
   ],
   "source": [
    "np.zeros([3,2])"
   ]
  },
  {
   "cell_type": "code",
   "execution_count": 9,
   "metadata": {
    "colab": {
     "base_uri": "https://localhost:8080/",
     "height": 102
    },
    "colab_type": "code",
    "id": "ECmpx5VnGdQz",
    "outputId": "b5402886-0548-4372-f68a-df7ba1804afe"
   },
   "outputs": [
    {
     "data": {
      "text/plain": [
       "array([[1., 0., 0., 0., 0.],\n",
       "       [0., 1., 0., 0., 0.],\n",
       "       [0., 0., 1., 0., 0.],\n",
       "       [0., 0., 0., 1., 0.],\n",
       "       [0., 0., 0., 0., 1.]])"
      ]
     },
     "execution_count": 9,
     "metadata": {},
     "output_type": "execute_result"
    }
   ],
   "source": [
    "np.identity(5)"
   ]
  },
  {
   "cell_type": "markdown",
   "metadata": {
    "colab_type": "text",
    "id": "ga9taIr36T_c"
   },
   "source": [
    "### Suma y resta"
   ]
  },
  {
   "cell_type": "markdown",
   "metadata": {
    "colab_type": "text",
    "id": "xgl7aN3f6wY6"
   },
   "source": [
    "La suma/resta de matrices se hace componente a componente, esto nos indica que las matrices deben tener las mimas dimensiones, a esto se le conoce en ser compatibles para la suma/resta. Por ejemplo, si tenemos dos matrices de tamaño $2\\times2$\n",
    "\n",
    "$$A=\\begin{bmatrix}a&b\\\\c&d\\end{bmatrix} \\\\  B=\\begin{bmatrix}e&f\\\\ g&h \\end{bmatrix}\\\\\n",
    "A\\pm B= \\begin{bmatrix}a\\pm e & b \\pm f\\\\ c \\pm g & d\\pm h\\end{bmatrix}$$\n",
    "Si $C$ fuera una matriz de un tamaño diferente a $2\\times2$ la suma con $A$ o $B$ sería imposible de calcular.\n",
    "\n",
    "### Ejemplo:\n",
    "Verifique la suma y la resta de las matrices definidas en la celda de código anterior:\n",
    "\n",
    "#### Solución:"
   ]
  },
  {
   "cell_type": "code",
   "execution_count": 10,
   "metadata": {
    "colab": {
     "base_uri": "https://localhost:8080/",
     "height": 68
    },
    "colab_type": "code",
    "id": "p3ySaKP_6Yi0",
    "outputId": "9f8c04ce-131f-4df4-c8eb-5b2595b48a07"
   },
   "outputs": [
    {
     "data": {
      "text/plain": [
       "array([[2, 3, 7],\n",
       "       [8, 5, 0],\n",
       "       [3, 3, 3]])"
      ]
     },
     "execution_count": 10,
     "metadata": {},
     "output_type": "execute_result"
    }
   ],
   "source": [
    "A+B"
   ]
  },
  {
   "cell_type": "code",
   "execution_count": 11,
   "metadata": {
    "colab": {
     "base_uri": "https://localhost:8080/",
     "height": 68
    },
    "colab_type": "code",
    "id": "M118eFen7Euq",
    "outputId": "3ac7ab16-6fcf-4691-de54-27acabbe8006"
   },
   "outputs": [
    {
     "data": {
      "text/plain": [
       "array([[ 0,  3, -3],\n",
       "       [-6, -5,  0],\n",
       "       [-1,  1,  1]])"
      ]
     },
     "execution_count": 11,
     "metadata": {},
     "output_type": "execute_result"
    }
   ],
   "source": [
    "A-B"
   ]
  },
  {
   "cell_type": "markdown",
   "metadata": {
    "colab_type": "text",
    "id": "oqPk5EzX7NL0"
   },
   "source": [
    "### Multiplicación por escalar\n",
    "Com osu nombre lo indica se está multiplicando una matriz por un número real cualquiera, el número real $r$ podrá ser positivo negativo o inluso cero, y la matriz $A$ podrá ser de cualquier tamaño, el resultado de $rA$ es simplemente multiplicar cada entrada de $A$ por $r$.\n",
    "\n",
    "Si $A$ es una matriz de $n$ filas y $m$ columnas\n",
    "\n",
    "$$A=\\left[ \\begin{array}{llll}\n",
    "           a_{11}& a_{12}&\\ldots& a_{1m}\\\\\n",
    "           a_{21}& a_{22}&\\ldots& a_{2m}\\\\\n",
    "           \\ \\ \\ \\vdots& \\ \\ \\ \\vdots& \\ \\vdots& \\ \\ \\ \\vdots\\\\\n",
    "           a_{n1}& a_{n2}&\\ldots& a_{nm}\n",
    "             \\end{array}\n",
    "   \\right],\\\\\n",
    "   rA=\\left[ \\begin{array}{llll}\n",
    "           ra_{11}& ra_{12}&\\ldots& ra_{1m}\\\\\n",
    "           ra_{21}& ra_{22}&\\ldots& ra_{2m}\\\\\n",
    "           \\ \\ \\ \\vdots& \\ \\ \\ \\vdots& \\ \\vdots& \\ \\ \\ \\vdots\\\\\n",
    "           ra_{n1}& ra_{n2}&\\ldots& ra_{nm}\n",
    "             \\end{array}\n",
    "   \\right].$$\n",
    "   \n",
    "### Ejemplo:\n",
    "Teniendo en cuenta las matrices definidas anteriormente,calcule $3A$, $-2A$ y $\\pi B$.\n",
    "#### Solución:"
   ]
  },
  {
   "cell_type": "code",
   "execution_count": 12,
   "metadata": {
    "colab": {
     "base_uri": "https://localhost:8080/",
     "height": 68
    },
    "colab_type": "code",
    "id": "bz1zkPQl7G8c",
    "outputId": "06abc701-1d8b-4918-80c8-89af1d078837"
   },
   "outputs": [
    {
     "data": {
      "text/plain": [
       "array([[3, 9, 6],\n",
       "       [3, 0, 0],\n",
       "       [3, 6, 6]])"
      ]
     },
     "execution_count": 12,
     "metadata": {},
     "output_type": "execute_result"
    }
   ],
   "source": [
    "3*A"
   ]
  },
  {
   "cell_type": "code",
   "execution_count": 13,
   "metadata": {
    "colab": {
     "base_uri": "https://localhost:8080/",
     "height": 68
    },
    "colab_type": "code",
    "id": "ep7kBIx97maX",
    "outputId": "4fc0d37b-49fa-413a-ecc4-6fcd7b91f96c"
   },
   "outputs": [
    {
     "data": {
      "text/plain": [
       "array([[-2, -6, -4],\n",
       "       [-2,  0,  0],\n",
       "       [-2, -4, -4]])"
      ]
     },
     "execution_count": 13,
     "metadata": {},
     "output_type": "execute_result"
    }
   ],
   "source": [
    "-2*A"
   ]
  },
  {
   "cell_type": "code",
   "execution_count": 14,
   "metadata": {
    "colab": {
     "base_uri": "https://localhost:8080/",
     "height": 68
    },
    "colab_type": "code",
    "id": "LBIblJVO7pwU",
    "outputId": "496e1d20-d58a-4dea-e9f0-cf308bb14090"
   },
   "outputs": [
    {
     "data": {
      "text/plain": [
       "array([[ 3.14159265,  0.        , 15.70796327],\n",
       "       [21.99114858, 15.70796327,  0.        ],\n",
       "       [ 6.28318531,  3.14159265,  3.14159265]])"
      ]
     },
     "execution_count": 14,
     "metadata": {},
     "output_type": "execute_result"
    }
   ],
   "source": [
    "np.pi*B ## Usamos un valor irracional muy conocido, el número PI"
   ]
  },
  {
   "cell_type": "markdown",
   "metadata": {
    "colab_type": "text",
    "id": "8OuPiXce8PCP"
   },
   "source": [
    "### Transpuesta\n",
    "\n",
    "La transpuesta es la operación sobre una matriz que cambia filas por columnas, para esta sección usaremos unas matrices rectangulares, observe que hacemos el arreglo bidimensional haciendo una lista de listas con la función **np.array**, cada lista interna representa una fila de la matriz:"
   ]
  },
  {
   "cell_type": "code",
   "execution_count": 15,
   "metadata": {
    "colab": {},
    "colab_type": "code",
    "id": "n22Xqzy27rj8"
   },
   "outputs": [],
   "source": [
    "M=np.array([[1,2,3,4],[-5,-6,-7,-8],[9,10,11,12]])"
   ]
  },
  {
   "cell_type": "code",
   "execution_count": 16,
   "metadata": {
    "colab": {
     "base_uri": "https://localhost:8080/",
     "height": 68
    },
    "colab_type": "code",
    "id": "YZlw_nBi87Vl",
    "outputId": "f6fcd3b7-6cfe-4675-cbeb-071aa4ce1c7a"
   },
   "outputs": [
    {
     "data": {
      "text/plain": [
       "array([[ 1,  2,  3,  4],\n",
       "       [-5, -6, -7, -8],\n",
       "       [ 9, 10, 11, 12]])"
      ]
     },
     "execution_count": 16,
     "metadata": {},
     "output_type": "execute_result"
    }
   ],
   "source": [
    "M"
   ]
  },
  {
   "cell_type": "code",
   "execution_count": 17,
   "metadata": {
    "colab": {
     "base_uri": "https://localhost:8080/",
     "height": 85
    },
    "colab_type": "code",
    "id": "lkD1tdQ988Xz",
    "outputId": "106ae499-de6e-4575-ae60-4512026d3851"
   },
   "outputs": [
    {
     "data": {
      "text/plain": [
       "array([[ 1, -5,  9],\n",
       "       [ 2, -6, 10],\n",
       "       [ 3, -7, 11],\n",
       "       [ 4, -8, 12]])"
      ]
     },
     "execution_count": 17,
     "metadata": {},
     "output_type": "execute_result"
    }
   ],
   "source": [
    "np.transpose(M)"
   ]
  },
  {
   "cell_type": "markdown",
   "metadata": {
    "colab_type": "text",
    "id": "hu8cUo7IG1NJ"
   },
   "source": [
    "\n",
    "### Multiplicación \n",
    "\n",
    "A diferencia de las otras operaciones, la multiplicación no se hace componente a componente, se multiplican filas por columnas, y para que sean compatibles las matrices para el producto, la cantidad de columnas de la primera matriz debe coincidir con la cantidad de filas de la segunda, es decir\n",
    "\n",
    "$$A_{nm}B_{ml}=C_{nl}$$\n",
    "\n",
    "Debido a su definición tan estricta con el orden, se convierte en una de las primeras operaciones conocidas por nosotros que no es conmutativa. \n",
    "\n",
    "Para que nos demos a una idea de la operación haremos un ejemplo:\n",
    "\n",
    "$$A=\\begin{bmatrix}1&2\\\\3&0\\\\5&-1\\end{bmatrix},\\ B=\\begin{bmatrix}0&3&4&-1\\\\\n",
    "1&2&-1&0\\end{bmatrix}$$\n",
    "Como la matriz $A$ es de tamaño $3\\times2$ y la matriz B es $2\\times4$ el resultado será una matriz $3\\times4$\n",
    "$$A\\times B=\\begin{bmatrix}1\\cdot0+2\\cdot1&1\\cdot3+2\\cdot2& 1\\cdot4+2\\cdot(-1)&1\\cdot(-1)+2\\cdot0\\\\ 3\\cdot0+0\\cdot1&3\\cdot3+0\\cdot2& 3\\cdot4+0\\cdot(-1)&3\\cdot(-1)+0\\cdot0\\\\ 5\\cdot0+(-1)\\cdot1&5\\cdot3+(-1)\\cdot2& 5\\cdot4+(-1)\\cdot(-1)&5\\cdot(-1)+(-1)\\cdot0\\end{bmatrix}\\\\\n",
    "=\\begin{bmatrix} 2&7&2&-1\\\\0&9&12&-3\\\\-1&13&21&-5\\end{bmatrix}$$\n",
    "\n",
    "Notemos que el producto de $B$ por $A$ no se puede realizar ya que $4\\neq3.$\n",
    "\n",
    "\n",
    "En Python usamos el comando @ para hacer esta multiplicación."
   ]
  },
  {
   "cell_type": "code",
   "execution_count": 18,
   "metadata": {
    "colab": {
     "base_uri": "https://localhost:8080/",
     "height": 204
    },
    "colab_type": "code",
    "id": "r1ghTgMmHJGn",
    "outputId": "d9bf54ce-fe03-48fe-b3b5-85f299885d2b"
   },
   "outputs": [
    {
     "name": "stdout",
     "output_type": "stream",
     "text": [
      "[[1 3 2]\n",
      " [1 0 0]\n",
      " [1 2 2]]\n",
      "[[ 1  2  3  4]\n",
      " [-5 -6 -7 -8]\n",
      " [ 9 10 11 12]]\n",
      "\n",
      " El resultado es:\n",
      "[[ 4  4  4  4]\n",
      " [ 1  2  3  4]\n",
      " [ 9 10 11 12]]\n"
     ]
    }
   ],
   "source": [
    "print(A) ## El comando print() permite visualizar un poco mejor la matriz.\n",
    "print(M)\n",
    "\n",
    "print(\"\\n El resultado es:\")\n",
    "print(A@M)"
   ]
  },
  {
   "cell_type": "markdown",
   "metadata": {
    "colab_type": "text",
    "id": "llEzwVAUJ5U5"
   },
   "source": [
    "Observe lo que ocurre cuando multiplicamos matrices con dimensiones no apropiadas \n",
    "### Ejercicio\n",
    "Verifique las operaciones realizadas en la explicación  con código de Python."
   ]
  },
  {
   "cell_type": "markdown",
   "metadata": {
    "colab_type": "text",
    "id": "gT9leVDMKISm"
   },
   "source": [
    "### Matrices Inversas\n",
    "Si una matriz cuadrada $A$ de $n\\times n$ se multiplica por derecha e izquierda por una matriz $B$ y se obtiene la identidad en ambos casos, es decir\n",
    "$$AB=BA=I_n$$\n",
    "La matriz $B$ se conoce como el inverso multiplicativo de la matriz $A$ o más comunmente como la matriz inversa de $A$. \n",
    "\n",
    "No todas las matrices cuadradas tienen inversa, la forma de determinarla empleando Python es meduante la función  **np.linalg.inv**"
   ]
  },
  {
   "cell_type": "code",
   "execution_count": 19,
   "metadata": {
    "colab": {},
    "colab_type": "code",
    "id": "fxtHNTo7K3DV"
   },
   "outputs": [],
   "source": [
    "N = np.array([[1, 0, 1], [2, -1, 3], [4, 3, 2]])"
   ]
  },
  {
   "cell_type": "code",
   "execution_count": 20,
   "metadata": {
    "colab": {
     "base_uri": "https://localhost:8080/",
     "height": 68
    },
    "colab_type": "code",
    "id": "cytZgWwNLob8",
    "outputId": "a0f1a604-a98c-4f00-95d0-a5321291a470"
   },
   "outputs": [
    {
     "data": {
      "text/plain": [
       "array([[ 11.,  -3.,  -1.],\n",
       "       [ -8.,   2.,   1.],\n",
       "       [-10.,   3.,   1.]])"
      ]
     },
     "execution_count": 20,
     "metadata": {},
     "output_type": "execute_result"
    }
   ],
   "source": [
    "Ninv=np.linalg.inv(N)\n",
    "Ninv"
   ]
  },
  {
   "cell_type": "markdown",
   "metadata": {
    "colab_type": "text",
    "id": "uRgJt5xkN6gl"
   },
   "source": [
    "Comprobamos este resultado:"
   ]
  },
  {
   "cell_type": "code",
   "execution_count": 21,
   "metadata": {
    "colab": {
     "base_uri": "https://localhost:8080/",
     "height": 68
    },
    "colab_type": "code",
    "id": "e5gvvkqaLqCs",
    "outputId": "efe160f3-e1ea-4627-c627-90469068857f"
   },
   "outputs": [
    {
     "data": {
      "text/plain": [
       "array([[ 1.00000000e+00, -2.22044605e-16, -4.44089210e-16],\n",
       "       [ 0.00000000e+00,  1.00000000e+00,  4.44089210e-16],\n",
       "       [ 0.00000000e+00,  2.22044605e-16,  1.00000000e+00]])"
      ]
     },
     "execution_count": 21,
     "metadata": {},
     "output_type": "execute_result"
    }
   ],
   "source": [
    "Ninv @ N"
   ]
  },
  {
   "cell_type": "markdown",
   "metadata": {
    "colab_type": "text",
    "id": "GjPBSr7tOM8b"
   },
   "source": [
    "Observe que la anterior es la matriz idéntica."
   ]
  },
  {
   "cell_type": "markdown",
   "metadata": {},
   "source": [
    "## Resolución de sistemas de ecuaciones lineales\n",
    "\n",
    "El método más común para solucionar sistemas de ecuaciones es el conocido como Método de eliminación de Gauss-Jordan, el cual consiste básicamente en aplicar operaciones elementales a la matriz de coeficientes para hallar la solución del sistema, también se emplea para hallar inversas de martices.\n",
    "\n",
    "### Método de eliminación de Gauss Jordan\n",
    "\n",
    "Si se tiene el sistema de ecuaciones \n",
    "\n",
    "$$\\begin{cases}2x-4y=6\\\\\n",
    "-4x+6y=-14\n",
    "\\end{cases}$$\n",
    "\n",
    "Se puede verificar de manera sencilla que su solución es $x=5$ y $y=1$.\n",
    "\n",
    "Si se remplaza la segunda ecuación por la suma de las dos veces la primera  más la segunda, obtendremos un nuevo sistema, el cual tiene como solución la misma de antes\n",
    "\n",
    "$$\\begin{cases}2x-4y=6\\\\\n",
    "-y=-1\n",
    "\\end{cases}$$\n",
    "\n",
    "Si se divide la segunda ecuación del primer sistema entre dos, obtenemos\n",
    "$$\\begin{cases}2x-4y=6\\\\\n",
    "-2x+3y=-7\n",
    "\\end{cases}$$\n",
    "sistema el cual también posee la misma solución.\n",
    "\n",
    "Y si cambiamos el orden en las ecuaciones\n",
    "$$\\begin{cases}-4x+6y=-14\\\\2x-4y=6\n",
    "\\end{cases}$$\n",
    "el sistema evidentemente tendrá las mismas soluciones.\n",
    "\n",
    "Estas operaciones que acabamos de realizar sobre el sistema de ecuaciones son las conocidas como operaciones elementales, y éstas nunca van a cambiar las soluciones del sistema de ecuaciones. Éstas también pueden hacerse en columnas pero no es tan utilizado.\n",
    "\n",
    "__________________\n",
    "#### Operaciones elementales de fila\n",
    "1. Cambio de filas.\n",
    "2. Multiplicar una fila por una constante.\n",
    "3. Sumar a una fila un múltiplo de ota.\n",
    "_________________\n",
    "Con esto en mente vale la pena trabajar con ellas para hallar la solución de un sistema de ecuaciones.\n",
    "\n",
    "Como vimos anteriormente un sistema de ecuaciones se puede representar de manera matricial, por ejemplo\n",
    "\n",
    "$$\\begin{cases}2x-4y=6\\\\\n",
    "-4x+6y=-14\n",
    "\\end{cases}$$\n",
    "se puede ver como\n",
    "$$\\begin{bmatrix} 2&-4\\\\-4&6\\end{bmatrix}\\begin{bmatrix} x\\\\y\\end{bmatrix}=\\begin{bmatrix} 6\\\\-14\\end{bmatrix}$$\n",
    "La idea fundamental de escribir el sistema de esta manera es aplicar las operaciones elementales, para obtener lo siguiente\n",
    "$$\\begin{bmatrix} 1&0\\\\0&1\\end{bmatrix}\\begin{bmatrix} x\\\\y\\end{bmatrix}=\\begin{bmatrix} 5\\\\1\\end{bmatrix}$$\n",
    "ya que al realizar las operaciones de matrices obtendremos que $x=5$ y que $y$=1.\n",
    "\n",
    "Realizaremos el procedimiento para la matriz que se tiene, con el fin de verificar la respuesta\n",
    "$$\n",
    "\\left[\n",
    "\\begin{array}{cc|c}\n",
    "2&-4&6\\\\\n",
    "-4&6&-14\n",
    "\\end{array}\n",
    "\\right]\n",
    "$$\n",
    "El primer paso será convertir el 2 que está en la diagonal principal en un 1, esto lo podemos hacer dividiendo toda la fila entre 2,\n",
    "\n",
    "$$\n",
    "\\left[\n",
    "\\begin{array}{cc|c}\n",
    "2&-4&6\\\\\n",
    "-4&6&-14\n",
    "\\end{array}\n",
    "\\right]\\xrightarrow{f_1=\\frac{1}{2}f_1}\\left[\n",
    "\\begin{array}{cc|c}\n",
    "1&-2&3\\\\\n",
    "-4&6&-14\n",
    "\\end{array}\n",
    "\\right]\n",
    "$$\n",
    "Ya que tenemos el 1 en la diagonal principal debemos transformar en cero las demás entradas de la columna, en este caso al -4, esto se logra fácilmente sumando 4 veces la fila 1 a la fila 2\n",
    "$$\\left[\n",
    "\\begin{array}{cc|c}\n",
    "1&-2&3\\\\\n",
    "-4&6&-14\n",
    "\\end{array}\n",
    "\\right]\\xrightarrow{f_2=f_2+4f_1}\\left[\n",
    "\\begin{array}{cc|c}\n",
    "1&-2&3\\\\\n",
    "0&-2&-2\n",
    "\\end{array}\n",
    "\\right]\n",
    "$$\n",
    "Como ya se han anulado todos los elementos que no están en la diagonal principal, procedemos a volver 1 el siguiente elemento de la diagonal principal, en este caso al -2 que está en la segunda fila segunda columna.\n",
    "\n",
    "$$\\left[\n",
    "\\begin{array}{cc|c}\n",
    "1&-2&3\\\\\n",
    "0&-2&-2\n",
    "\\end{array}\n",
    "\\right]\\xrightarrow{f_2=\\frac{-1}{2}}\\left[\n",
    "\\begin{array}{cc|c}\n",
    "1&-2&3\\\\\n",
    "0&1&1\n",
    "\\end{array}\n",
    "\\right]\n",
    "$$\n",
    "Y finalmente anulamos todos los elementos que no estén sobre la diagonal principal\n",
    "$$\\left[\n",
    "\\begin{array}{cc|c}\n",
    "1&-2&3\\\\\n",
    "0&1&1\n",
    "\\end{array}\n",
    "\\right]\\xrightarrow{f_1=f_1+2f_2}\\left[\n",
    "\\begin{array}{cc|c}\n",
    "1&0&5\\\\\n",
    "0&1&1\n",
    "\\end{array}\n",
    "\\right]\n",
    "$$\n",
    "De modo que $x=5$ mientras que $y=1$.\n",
    "\n",
    "_____\n",
    "#### Algoritmo\n",
    "1. Si la entrada $a_{11}$ de la matriz no es un 1, debe transformase utilizando lasoperaciones elementales.\n",
    "2. Volver cero todas las entradas de esa columnas que no estén sobre la diagonal principal.\n",
    "3. Si la entrada $a_{22}$ de la matriz no es un 1, debe transformase utilizando lasoperaciones elementales.\n",
    "4. Volver cero todas las entradas de esa columnas que no estén sobre la diagonal principal.\n",
    "5. Repetir el proceso hasta agotar todas las columnas de la matriz.\n",
    "_____\n"
   ]
  },
  {
   "cell_type": "markdown",
   "metadata": {},
   "source": [
    "####  Ejemplos:\n",
    "1. Solucione el siguiente sistema de ecuaciones utilizando Gauss-Jordan\n",
    "$$\\begin{cases}3x-15y=9\\\\\n",
    "-6x+30y=0\n",
    "\\end{cases}$$\n",
    "\n",
    "$$\\left[\n",
    "\\begin{array}{cc|c}\n",
    "3&-15&9\\\\\n",
    "-6&30&0\n",
    "\\end{array}\n",
    "\\right]\\xrightarrow{f_1=\\frac{1}{3}f_1}\\left[\n",
    "\\begin{array}{cc|c}\n",
    "1&-5&3\\\\\n",
    "-6&30&0\n",
    "\\end{array}\n",
    "\\right] \\xrightarrow{f_2=f_2+6f_1}\\left[\n",
    "\\begin{array}{cc|c}\n",
    "1&-5&3\\\\\n",
    "0&0&18\n",
    "\\end{array}\n",
    "\\right]\n",
    "$$\n",
    "Como es imposible transformar la entrada de la diagonal principal en uno, el proceso termina con un nuevo sistema de ecuaciones\n",
    "$$\\begin{cases}x-5y=3\\\\\n",
    "0=18\\end{cases}$$\n",
    "\n",
    "como la segunda ecuación representa algo falso, lo que se puede decir del sistema es que no tiene soluciones.\n",
    "\n",
    "2. Emplee Gauss-Jordan para solucionar el sistema de ecuaciones\n",
    "$$\\begin{cases} 3x+6y-9z=18\\\\\n",
    "-6x+8y-10z=4\\\\\n",
    "-2x+6y-8z=8\\end{cases}$$\n",
    "\n",
    "$$\\left[\n",
    "\\begin{array}{ccc|c}\n",
    "3&6&-9&18\\\\\n",
    "-6&8&-10&4\\\\\n",
    "-2&6&-8&8\n",
    "\\end{array}\n",
    "\\right] \\xrightarrow{f_1=\\frac{1}{3}f_1}\\left[\n",
    "\\begin{array}{ccc|c}\n",
    "1&2&-3&6\\\\\n",
    "-6&8&-10&4\\\\\n",
    "-2&6&-8&8\n",
    "\\end{array}\n",
    "\\right] \\xrightarrow{f_2=f_2+6f_1}\\left[\n",
    "\\begin{array}{ccc|c}\n",
    "1&2&-3&6\\\\\n",
    "0&20&-28&40\\\\\n",
    "-2&6&-8&8\n",
    "\\end{array}\n",
    "\\right]\\xrightarrow{f_3=f_3+2f_1}\\left[\n",
    "\\begin{array}{ccc|c}\n",
    "1&2&-3&6\\\\\n",
    "0&20&-28&40\\\\\n",
    "0&10&-14&20\n",
    "\\end{array}\n",
    "\\right] \\xrightarrow{f_2=\\frac{1}{20}f_2}\\left[\n",
    "\\begin{array}{ccc|c}\n",
    "1&2&-3&6\\\\\n",
    "0&1&-\\frac{7}{5}&2\\\\\n",
    "0&10&-14&20\n",
    "\\end{array}\n",
    "\\right] \\xrightarrow{f_3=f_3-10f_2}\\left[\n",
    "\\begin{array}{ccc|c}\n",
    "1&2&-3&6\\\\\n",
    "0&1&-\\frac{7}{5}&2\\\\\n",
    "0&0&0&0\n",
    "\\end{array}\n",
    "\\right]\n",
    "$$\n",
    "Como los elementos de la última fila son todos nulos, podemos afirmar que el sistema tiene infinitas soluciones."
   ]
  },
  {
   "cell_type": "markdown",
   "metadata": {
    "colab_type": "text",
    "id": "gcSwZnhwOt8f"
   },
   "source": [
    "### Ahora con Python\n",
    "\n",
    "El método que utilizamos para encontrar la solución de un sistema de ecuaciones lineales fue el método de eliminación de Gauss Jordan, si bien con la tabla definida en clase es muy sencillo definir un algoritmo para dicho proceso, es útil conocer funciones que nos permitan hacer ese cálculo. \n",
    "\n",
    "Para esta sección usaremos otro paquete bien conocido en Python, el paquete **sympy**, iniciamos importandolo:"
   ]
  },
  {
   "cell_type": "code",
   "execution_count": 22,
   "metadata": {
    "colab": {},
    "colab_type": "code",
    "id": "sEvSVGSPPs5r"
   },
   "outputs": [],
   "source": [
    "from sympy import *\n",
    "init_printing()"
   ]
  },
  {
   "cell_type": "markdown",
   "metadata": {
    "colab_type": "text",
    "id": "Pj8YpIk2QJ7D"
   },
   "source": [
    "La forma de importar este paquete nos permite usar todas las funciones de **sympy** sin necesidad del prefijo. *init_printing()* es una función que nos facilitara la lectura de las matrices que usamos. \n",
    "\n",
    "el paquete sympy es un paquete de matemática simbólica, es decir, buscará ser lo más fiel al lenguaje usado en clase.\n"
   ]
  },
  {
   "cell_type": "markdown",
   "metadata": {
    "colab_type": "text",
    "id": "zKu2ebmOR316"
   },
   "source": [
    "\n",
    "Iniciamos definiendo una matriz con la función *Matrix*."
   ]
  },
  {
   "cell_type": "code",
   "execution_count": 23,
   "metadata": {
    "colab": {
     "base_uri": "https://localhost:8080/",
     "height": 34
    },
    "colab_type": "code",
    "id": "j9tCTF-BPvJT",
    "outputId": "46322897-77ab-4929-eb8e-aee40a9e4d29"
   },
   "outputs": [
    {
     "data": {
      "image/png": "[encoded data removed]",
      "text/latex": [
       "$\\displaystyle \\left[\\begin{matrix}1 & -1\\\\3 & 4\\\\0 & 2\\end{matrix}\\right]$"
      ],
      "text/plain": [
       "⎡1  -1⎤\n",
       "⎢     ⎥\n",
       "⎢3  4 ⎥\n",
       "⎢     ⎥\n",
       "⎣0  2 ⎦"
      ]
     },
     "execution_count": 23,
     "metadata": {},
     "output_type": "execute_result"
    }
   ],
   "source": [
    "Matrix([[1, -1], [3, 4], [0, 2]])"
   ]
  },
  {
   "cell_type": "markdown",
   "metadata": {
    "colab": {
     "base_uri": "https://localhost:8080/",
     "height": 62
    },
    "colab_type": "code",
    "id": "wYcnJ6JHRHNi",
    "outputId": "0bdb9168-e291-494e-aa2c-b855a4e0a196"
   },
   "source": [
    "Con este paque se pueden redefinir las operaciones descritas en la sección anterior con numpy, tenemos por ejemplo:"
   ]
  },
  {
   "cell_type": "code",
   "execution_count": 24,
   "metadata": {
    "colab": {},
    "colab_type": "code",
    "id": "X7KkeCnwRfmK"
   },
   "outputs": [
    {
     "data": {
      "image/png": "[encoded data removed]",
      "text/latex": [
       "$\\displaystyle \\left( \\left[\\begin{matrix}1 & 2 & 3\\\\0 & 1 & 2\\\\-1 & 1 & 3\\end{matrix}\\right], \\  \\left[\\begin{matrix}1 & -1 & 1\\\\0 & 1 & 1\\\\-1 & 10 & 31\\end{matrix}\\right]\\right)$"
      ],
      "text/plain": [
       "⎛⎡1   2  3⎤  ⎡1   -1  1 ⎤⎞\n",
       "⎜⎢        ⎥  ⎢          ⎥⎟\n",
       "⎜⎢0   1  2⎥, ⎢0   1   1 ⎥⎟\n",
       "⎜⎢        ⎥  ⎢          ⎥⎟\n",
       "⎝⎣-1  1  3⎦  ⎣-1  10  31⎦⎠"
      ]
     },
     "execution_count": 24,
     "metadata": {},
     "output_type": "execute_result"
    }
   ],
   "source": [
    "A=Matrix([[1,2,3],[0,1,2],[-1,1,3]])\n",
    "B=Matrix([[1,-1,1],[0,1,1],[-1,10,31]])\n",
    "A , B"
   ]
  },
  {
   "cell_type": "markdown",
   "metadata": {},
   "source": [
    "Suma"
   ]
  },
  {
   "cell_type": "code",
   "execution_count": 25,
   "metadata": {},
   "outputs": [
    {
     "data": {
      "image/png": "[encoded data removed]",
      "text/latex": [
       "$\\displaystyle \\left[\\begin{matrix}2 & 1 & 4\\\\0 & 2 & 3\\\\-2 & 11 & 34\\end{matrix}\\right]$"
      ],
      "text/plain": [
       "⎡2   1   4 ⎤\n",
       "⎢          ⎥\n",
       "⎢0   2   3 ⎥\n",
       "⎢          ⎥\n",
       "⎣-2  11  34⎦"
      ]
     },
     "execution_count": 25,
     "metadata": {},
     "output_type": "execute_result"
    }
   ],
   "source": [
    "A+B"
   ]
  },
  {
   "cell_type": "markdown",
   "metadata": {},
   "source": [
    "Resta"
   ]
  },
  {
   "cell_type": "code",
   "execution_count": 26,
   "metadata": {},
   "outputs": [
    {
     "data": {
      "image/png": "[encoded data removed]",
      "text/latex": [
       "$\\displaystyle \\left[\\begin{matrix}0 & 3 & 2\\\\0 & 0 & 1\\\\0 & -9 & -28\\end{matrix}\\right]$"
      ],
      "text/plain": [
       "⎡0  3    2 ⎤\n",
       "⎢          ⎥\n",
       "⎢0  0    1 ⎥\n",
       "⎢          ⎥\n",
       "⎣0  -9  -28⎦"
      ]
     },
     "execution_count": 26,
     "metadata": {},
     "output_type": "execute_result"
    }
   ],
   "source": [
    "A-B"
   ]
  },
  {
   "cell_type": "markdown",
   "metadata": {},
   "source": [
    "Sumando como en el tablero, usando simbolos matriciales:"
   ]
  },
  {
   "cell_type": "code",
   "execution_count": 27,
   "metadata": {},
   "outputs": [
    {
     "data": {
      "image/png": "[encoded data removed]",
      "text/latex": [
       "$\\displaystyle \\left[\\begin{matrix}1 & 2 & 3\\\\0 & 1 & 2\\\\-1 & 1 & 3\\end{matrix}\\right] + \\left[\\begin{matrix}1 & -1 & 1\\\\0 & 1 & 1\\\\-1 & 10 & 31\\end{matrix}\\right] = \\left[\\begin{matrix}2 & 1 & 4\\\\0 & 2 & 3\\\\-2 & 11 & 34\\end{matrix}\\right]$"
      ],
      "text/plain": [
       "⎡1   2  3⎤   ⎡1   -1  1 ⎤   ⎡2   1   4 ⎤\n",
       "⎢        ⎥   ⎢          ⎥   ⎢          ⎥\n",
       "⎢0   1  2⎥⋅+⋅⎢0   1   1 ⎥⋅=⋅⎢0   2   3 ⎥\n",
       "⎢        ⎥   ⎢          ⎥   ⎢          ⎥\n",
       "⎣-1  1  3⎦   ⎣-1  10  31⎦   ⎣-2  11  34⎦"
      ]
     },
     "execution_count": 27,
     "metadata": {},
     "output_type": "execute_result"
    }
   ],
   "source": [
    "s=MatrixSymbol(\"+\",3,3)\n",
    "e=MatrixSymbol(\"=\",3,3)\n",
    "(A *s*B)*e*(A+B)"
   ]
  },
  {
   "cell_type": "markdown",
   "metadata": {},
   "source": [
    "Producto"
   ]
  },
  {
   "cell_type": "code",
   "execution_count": 28,
   "metadata": {},
   "outputs": [
    {
     "data": {
      "image/png": "[encoded data removed]",
      "text/latex": [
       "$\\displaystyle \\left[\\begin{matrix}-2 & 31 & 96\\\\-2 & 21 & 63\\\\-4 & 32 & 93\\end{matrix}\\right]$"
      ],
      "text/plain": [
       "⎡-2  31  96⎤\n",
       "⎢          ⎥\n",
       "⎢-2  21  63⎥\n",
       "⎢          ⎥\n",
       "⎣-4  32  93⎦"
      ]
     },
     "execution_count": 28,
     "metadata": {},
     "output_type": "execute_result"
    }
   ],
   "source": [
    "A*B"
   ]
  },
  {
   "cell_type": "markdown",
   "metadata": {},
   "source": [
    "Transpuesta"
   ]
  },
  {
   "cell_type": "code",
   "execution_count": 29,
   "metadata": {},
   "outputs": [
    {
     "data": {
      "image/png": "[encoded data removed]",
      "text/latex": [
       "$\\displaystyle \\left(\\left[\\begin{matrix}1 & 2 & 3\\\\0 & 1 & 2\\\\-1 & 1 & 3\\end{matrix}\\right]\\right)^{T}$"
      ],
      "text/plain": [
       "            T\n",
       "⎛⎡1   2  3⎤⎞ \n",
       "⎜⎢        ⎥⎟ \n",
       "⎜⎢0   1  2⎥⎟ \n",
       "⎜⎢        ⎥⎟ \n",
       "⎝⎣-1  1  3⎦⎠ "
      ]
     },
     "execution_count": 29,
     "metadata": {},
     "output_type": "execute_result"
    }
   ],
   "source": [
    "Transpose(A)##Escrita"
   ]
  },
  {
   "cell_type": "code",
   "execution_count": 30,
   "metadata": {},
   "outputs": [
    {
     "data": {
      "image/png": "[encoded data removed]",
      "text/latex": [
       "$\\displaystyle \\left[\\begin{matrix}1 & 0 & -1\\\\2 & 1 & 1\\\\3 & 2 & 3\\end{matrix}\\right]$"
      ],
      "text/plain": [
       "⎡1  0  -1⎤\n",
       "⎢        ⎥\n",
       "⎢2  1  1 ⎥\n",
       "⎢        ⎥\n",
       "⎣3  2  3 ⎦"
      ]
     },
     "execution_count": 30,
     "metadata": {},
     "output_type": "execute_result"
    }
   ],
   "source": [
    "A.T ##Calculada"
   ]
  },
  {
   "cell_type": "markdown",
   "metadata": {},
   "source": [
    "Inversa"
   ]
  },
  {
   "cell_type": "code",
   "execution_count": 31,
   "metadata": {},
   "outputs": [
    {
     "data": {
      "image/png": "[encoded data removed]",
      "text/latex": [
       "$\\displaystyle \\left[\\begin{matrix}\\frac{21}{23} & \\frac{41}{23} & - \\frac{2}{23}\\\\- \\frac{1}{23} & \\frac{32}{23} & - \\frac{1}{23}\\\\\\frac{1}{23} & - \\frac{9}{23} & \\frac{1}{23}\\end{matrix}\\right]$"
      ],
      "text/plain": [
       "⎡ 21     41         ⎤\n",
       "⎢ ──     ──    -2/23⎥\n",
       "⎢ 23     23         ⎥\n",
       "⎢                   ⎥\n",
       "⎢        32         ⎥\n",
       "⎢-1/23   ──    -1/23⎥\n",
       "⎢        23         ⎥\n",
       "⎢                   ⎥\n",
       "⎣1/23   -9/23  1/23 ⎦"
      ]
     },
     "execution_count": 31,
     "metadata": {},
     "output_type": "execute_result"
    }
   ],
   "source": [
    "B**(-1)"
   ]
  },
  {
   "cell_type": "markdown",
   "metadata": {},
   "source": [
    "No obstante, lo que queremos es hacer la reducción de Gauss Jordan para las matrices que pueden asociarse o bien a un problema de sistemas o a un problema de inversas. Para esto usamos la función *rref*: "
   ]
  },
  {
   "cell_type": "markdown",
   "metadata": {},
   "source": [
    "Resolveremos el siguiente sistema:\n",
    "\n",
    "$$ \\begin{cases}x+y+z=1\\\\ 2x+2y+4z=0 \\\\ x+z=0 \\end{cases}$$"
   ]
  },
  {
   "cell_type": "markdown",
   "metadata": {},
   "source": [
    "Iniciamos definiendo la matriz aumentada del sistema:"
   ]
  },
  {
   "cell_type": "code",
   "execution_count": 32,
   "metadata": {},
   "outputs": [
    {
     "data": {
      "image/png": "[encoded data removed]",
      "text/latex": [
       "$\\displaystyle \\left[\\begin{matrix}1 & 1 & 1 & 1\\\\2 & 2 & 4 & 0\\\\1 & 0 & 1 & 0\\end{matrix}\\right]$"
      ],
      "text/plain": [
       "⎡1  1  1  1⎤\n",
       "⎢          ⎥\n",
       "⎢2  2  4  0⎥\n",
       "⎢          ⎥\n",
       "⎣1  0  1  0⎦"
      ]
     },
     "execution_count": 32,
     "metadata": {},
     "output_type": "execute_result"
    }
   ],
   "source": [
    "S=Matrix([[1,1,1,1],[2,2,4,0],[1,0,1,0]])\n",
    "S"
   ]
  },
  {
   "cell_type": "markdown",
   "metadata": {},
   "source": [
    "Ahora lo reducimos:"
   ]
  },
  {
   "cell_type": "code",
   "execution_count": 33,
   "metadata": {},
   "outputs": [
    {
     "data": {
      "image/png": "[encoded data removed]",
      "text/latex": [
       "$\\displaystyle \\left( \\left[\\begin{matrix}1 & 0 & 0 & 1\\\\0 & 1 & 0 & 1\\\\0 & 0 & 1 & -1\\end{matrix}\\right], \\  \\left( 0, \\  1, \\  2\\right)\\right)$"
      ],
      "text/plain": [
       "⎛⎡1  0  0  1 ⎤           ⎞\n",
       "⎜⎢           ⎥           ⎟\n",
       "⎜⎢0  1  0  1 ⎥, (0, 1, 2)⎟\n",
       "⎜⎢           ⎥           ⎟\n",
       "⎝⎣0  0  1  -1⎦           ⎠"
      ]
     },
     "execution_count": 33,
     "metadata": {},
     "output_type": "execute_result"
    }
   ],
   "source": [
    "S.rref()"
   ]
  },
  {
   "cell_type": "markdown",
   "metadata": {},
   "source": [
    "La primera parte de la respuesta nos entrega la forma escalonada reducida de la matriz y la segunda indica el indice de los pivotes que se encontraron en dicha forma. De aquí es fácil notar que la solución del sistema es:\n",
    "\n",
    "$$ \\begin{cases} x=1\\\\ y=1 \\\\z=-1 \\end{cases} $$"
   ]
  },
  {
   "cell_type": "markdown",
   "metadata": {},
   "source": [
    "Otro ejemplo, para el sistema:\n",
    "\n",
    "$$\\begin{cases}x+z=3\\\\ 2x+3y+4z=7\\\\ -x-3y-z=-4 \\end{cases}$$"
   ]
  },
  {
   "cell_type": "code",
   "execution_count": 34,
   "metadata": {},
   "outputs": [
    {
     "data": {
      "image/png": "[encoded data removed]",
      "text/latex": [
       "$\\displaystyle \\left[\\begin{matrix}1 & 0 & 1 & 3\\\\2 & 3 & 4 & 7\\\\-1 & -3 & -3 & -4\\end{matrix}\\right]$"
      ],
      "text/plain": [
       "⎡1   0   1   3 ⎤\n",
       "⎢              ⎥\n",
       "⎢2   3   4   7 ⎥\n",
       "⎢              ⎥\n",
       "⎣-1  -3  -3  -4⎦"
      ]
     },
     "execution_count": 34,
     "metadata": {},
     "output_type": "execute_result"
    }
   ],
   "source": [
    "S2=Matrix([[1, 0, 1, 3], [2, 3, 4, 7], [-1, -3, -3, -4]])\n",
    "S2"
   ]
  },
  {
   "cell_type": "code",
   "execution_count": 35,
   "metadata": {},
   "outputs": [
    {
     "data": {
      "image/png": "[encoded data removed]",
      "text/latex": [
       "$\\displaystyle \\left( \\left[\\begin{matrix}1 & 0 & 1 & 3\\\\0 & 1 & \\frac{2}{3} & \\frac{1}{3}\\\\0 & 0 & 0 & 0\\end{matrix}\\right], \\  \\left( 0, \\  1\\right)\\right)$"
      ],
      "text/plain": [
       "⎛⎡1  0   1    3 ⎤        ⎞\n",
       "⎜⎢              ⎥        ⎟\n",
       "⎜⎢0  1  2/3  1/3⎥, (0, 1)⎟\n",
       "⎜⎢              ⎥        ⎟\n",
       "⎝⎣0  0   0    0 ⎦        ⎠"
      ]
     },
     "execution_count": 35,
     "metadata": {},
     "output_type": "execute_result"
    }
   ],
   "source": [
    "S2.rref()"
   ]
  },
  {
   "cell_type": "markdown",
   "metadata": {},
   "source": [
    "La solución aquí es infinita, tenemos:\n",
    "\n",
    "$$\\begin{cases} x=3-t\\\\ y=\\frac{1}{3}-\\frac{2}{3}t \\\\ z=t \\end{cases} $$\n",
    "\n",
    "para todo $ t\\in \\mathbb{R}$."
   ]
  },
  {
   "cell_type": "markdown",
   "metadata": {},
   "source": [
    "## Determinantes\n",
    "\n",
    "Muchas veces necesitamos conocer de antemano si el problema al que nos enfrentamos tiene una solución única, para ello basta realizar un cálculo sencillo sobre el cual hablaremos enseguida.\n",
    "\n",
    "**¿Qué es un determinante?**\n",
    "\n",
    "El determinante es un número real asociado a cada matriz cuadrada, el cual nos permitirá, primero que nada, saber la cantidad de soluciones que tiene un sistema y en segundo lugar el valor de la solución cuando ésta sea única. El determinante de una matriz puede ser cualquier número real.\n",
    "\n",
    "Es conveniente entender primero como calcular determinantes de matrices $2\\times 2$ para luego calcular los deteminantes de mayor orden.\n",
    "\n",
    "**Notación:**\n",
    "Para indicar que se va a calcular el determinante de la matriz $A$ es común encontrar las notaciones $det(A)$ o $|A|$.\n",
    "\n",
    "**Ejemplo:**\n",
    "Halle el determinante de la matriz $\\begin{pmatrix}1&3\\\\ \\:4&2\\end{pmatrix}$.\n",
    "\n",
    "Podemos escribir $det\\begin{pmatrix}1&3\\\\ \\:4&2\\end{pmatrix}=\\begin{vmatrix}1&3\\\\ \\:4&2\\end{vmatrix}$\n",
    "\n",
    "### ¿Cómo se calcula?\n",
    "En realidad es una cuenta bastante simple, es el producto de la diagonal menos el producto de la antidiagonal, es decir\n",
    "$$\\begin{vmatrix}a_{11}&a_{12}\\\\ \\:a_{21}&a_{22}\\end{vmatrix}=a_{11}a_{22}-a_{12}a_{21}$$\n",
    "\n",
    "**Ejemplos**\n",
    "1. $$\\begin{vmatrix}1&3\\\\ \\:4&2\\end{vmatrix}=(1)(2)-(3)(4)=-10$$\n",
    "2. $$\\begin{vmatrix}-4&3\\\\ \\:-1&-6\\end{vmatrix}=(-4)(-6)-(-1)(3)=27$$\n",
    "3. $$\\begin{vmatrix}2&4\\\\ \\:-4&-8\\end{vmatrix}=(2)(-8)-(4)(-4)=0$$\n",
    "\n",
    "\n",
    "### ¿Qué pasa si la matriz es de mayor orden?\n",
    "Primero que nada se deben definir los **cofactores:** el cofactor asociado al elemento $a_{ij}$ de una matriz de tamaño $n\\times n$ se define como\n",
    "$$C_{ij}=(-1)^{i+j}M_{ij}$$\n",
    "Siendo $M_{ij}$ la matriz obtenida al eliminar la fila $i$ y la columna $j$ de la matriz original.\n",
    "\n",
    "**Ejemplo:**\n",
    "Hallar el cofactor $C_{23}$ correspondiente a la matriz  $A=\\begin{pmatrix}1&2&0\\\\ \\:-1&1&1\\\\ \\:2&-1&0\\end{pmatrix}$.\n",
    "\n",
    "Al eliminar la segunda fila y la tercera columna se obtiene la matriz\n",
    "![Imagen](https://github.com/MRippe7/images/blob/master/1.png?raw=true)\n",
    "por lo cual \n",
    "$$C_{23}=(-1)^{2+3}\\begin{vmatrix}1&2\\\\ \\:2&-1\\end{vmatrix}=(-1)(-5)=5$$\n",
    "\n",
    "#### Algoritmo\n",
    "La idea será la siguiente:\n",
    "1. Elegir una fila (o una columna) .\n",
    "2. Hallar los cofactores correspondientes a cada uno de los elementos de la fila (o columna).\n",
    "3. Multiplicar los valores de las entradas por sus respectivos cofactores .\n",
    "4. Realizar la suma de los resultados obtenidos en el paso 3.\n",
    "\n",
    "Vamos a hallar el determinante de la matriz anterior utilizando la primera fila, como también la tercera columna, esto con el fin de mostrar que no importa cual se elija, el resultado será el mismo y también para que siempre se elija la fila o columna con mayor cantidad de entradas nulas.\n",
    "\n",
    "**Determinante seleccionando la primera fila:**\n",
    "\n",
    "![Imagen](https://github.com/MRippe7/images/blob/master/2.png?raw=true)\n",
    "Notemos que como la entrada $A_{23}$ es cero, el sumando asociado a ésta no aporta nada para calcular el determinante.\n",
    "\n",
    "\n",
    "**Determinante seleccionando la tercera columna:**\n",
    "\n",
    "Siguiendo la observación anterior en la tercera columna se tienen 2 entradas cuyo valor es cero, por lo que su aporte al determinante es nulo, basta calcular únicamente el cofactor $C_{23}$ multiplicarlo por su respectiva entrada y obtendríamos el valor del determinante así\n",
    "![Imagen](https://github.com/MRippe7/images/blob/master/3.png?raw=true)\n",
    "\n",
    "### Ejercicios:\n",
    "1. Calcule:\n",
    "    1. $\\begin{vmatrix}0&1\\\\ \\:5&2\\end{vmatrix}$\n",
    "    2. $\\begin{vmatrix}4&4\\\\ \\:-2&-2\\end{vmatrix}$\n",
    "    3. $\\begin{vmatrix}-4&3\\\\ \\:0&1\\end{vmatrix}$\n",
    "    4. $\\begin{vmatrix}0&0&0\\\\ \\:4&2&3\\\\ \\:-1&3&9\\end{vmatrix}$\n",
    "    5. $\\begin{vmatrix}0&0&0\\\\ \\:4&2&3\\\\ \\:-1&3&9\\end{vmatrix}$\n",
    "    6. Haga una función en Python que le permita calcular el cofactor indicado por el usuario en una matriz arbitraria.\n"
   ]
  },
  {
   "cell_type": "markdown",
   "metadata": {},
   "source": [
    "### ¿Cómo lo hago en Python?\n",
    "En realidad es bastante simple, ya que la librería *Sympy* tiene una función que premite hallar el determinante directamente.\n",
    "\n",
    "`matriz.det()`"
   ]
  },
  {
   "cell_type": "code",
   "execution_count": 36,
   "metadata": {},
   "outputs": [],
   "source": [
    "from sympy import *"
   ]
  },
  {
   "cell_type": "code",
   "execution_count": 37,
   "metadata": {},
   "outputs": [],
   "source": [
    "init_printing(use_unicode=True)"
   ]
  },
  {
   "cell_type": "code",
   "execution_count": 38,
   "metadata": {},
   "outputs": [
    {
     "data": {
      "image/png": "[encoded data removed]",
      "text/latex": [
       "$\\displaystyle \\left[\\begin{matrix}1 & 2 & 0\\\\1 & 1 & 1\\\\2 & -1 & 0\\end{matrix}\\right]$"
      ],
      "text/plain": [
       "⎡1  2   0⎤\n",
       "⎢        ⎥\n",
       "⎢1  1   1⎥\n",
       "⎢        ⎥\n",
       "⎣2  -1  0⎦"
      ]
     },
     "execution_count": 38,
     "metadata": {},
     "output_type": "execute_result"
    }
   ],
   "source": [
    "M=Matrix([[1,2,0], [1,1,1], [2,-1,0]])\n",
    "M"
   ]
  },
  {
   "cell_type": "code",
   "execution_count": 39,
   "metadata": {},
   "outputs": [
    {
     "data": {
      "image/png": "[encoded data removed]",
      "text/latex": [
       "$\\displaystyle \\left[\\begin{matrix}0\\\\1\\\\0\\end{matrix}\\right]$"
      ],
      "text/plain": [
       "⎡0⎤\n",
       "⎢ ⎥\n",
       "⎢1⎥\n",
       "⎢ ⎥\n",
       "⎣0⎦"
      ]
     },
     "execution_count": 39,
     "metadata": {},
     "output_type": "execute_result"
    }
   ],
   "source": [
    "M.col(2)"
   ]
  },
  {
   "cell_type": "code",
   "execution_count": 40,
   "metadata": {},
   "outputs": [
    {
     "data": {
      "image/png": "[encoded data removed]",
      "text/latex": [
       "$\\displaystyle \\left[\\begin{matrix}1 & 1 & 1\\end{matrix}\\right]$"
      ],
      "text/plain": [
       "[1  1  1]"
      ]
     },
     "execution_count": 40,
     "metadata": {},
     "output_type": "execute_result"
    }
   ],
   "source": [
    "M.row(1)"
   ]
  },
  {
   "cell_type": "code",
   "execution_count": 41,
   "metadata": {},
   "outputs": [
    {
     "data": {
      "image/png": "[encoded data removed]",
      "text/latex": [
       "$\\displaystyle 5$"
      ],
      "text/plain": [
       "5"
      ]
     },
     "execution_count": 41,
     "metadata": {},
     "output_type": "execute_result"
    }
   ],
   "source": [
    "M.det()"
   ]
  },
  {
   "cell_type": "code",
   "execution_count": 42,
   "metadata": {},
   "outputs": [
    {
     "data": {
      "image/png": "[encoded data removed]",
      "text/latex": [
       "$\\displaystyle 12.0$"
      ],
      "text/plain": [
       "12.0000000000000"
      ]
     },
     "execution_count": 42,
     "metadata": {},
     "output_type": "execute_result"
    }
   ],
   "source": [
    "Matrix([[-3,2,4], [2,0,3], [0.5,1,2]]).det()"
   ]
  },
  {
   "cell_type": "markdown",
   "metadata": {},
   "source": [
    "#### Ejercicio\n",
    "1. Utilice la función `.det()` para corroborar los resultados obtenidos anteriormente.\n",
    "\n"
   ]
  },
  {
   "cell_type": "markdown",
   "metadata": {},
   "source": [
    "### ¿Cómo puedo aplicar los determinantes?\n",
    "\n",
    "Como vimos anteriormente los sistemas de ecuaciones se pueden representar de manera matricial de la siguiente manera:\n",
    "$$Ax=b$$\n",
    "Si el determinante de $A$ fuese nulo, el sistema puede tener infinitas o ninguna solución, mientras que si es diferente de cero tendrá una única solución.\n",
    "\n",
    "#### Ejemplo:\n",
    "¿El siguiente sistema tiene una única solución?\n",
    "$$\\begin{cases} 3x+y=0\\\\ 2x-6y=5\\end{cases}$$\n",
    "\n",
    "Para responder a la pregunta formulada basta hallar el determinante de la matriz de coeficientes del sistema\n",
    "$$\\begin{vmatrix}3&1\\\\ \\:2&-6\\end{vmatrix}=-20\\neq0$$\n",
    "por lo tanto el sistema posee una única solución.\n",
    "\n",
    "\n",
    "### ¿Se puede hallar la solución del sistema utilizando determinantes?\n",
    "A éste proceso se le conoce como la Regla de Cramer y consiste en lo siguiente:\n",
    "1. Se debe calcular el determinante de la matriz de coeficientes.\n",
    "2. Se remplaza la columna correspondiente a la primera variable por los elementos que conforman al vector $b$, obteniendo una nueva matriz.\n",
    "3. El proceso anterior se repite con todas las variables que tenga el sistema, es decir, se obtendrán tantas matrices como variables tiene el sistema.\n",
    "4. Se calculan los determinantes de las matrices anteriores.\n",
    "5. El valor de cada variable será el obtenido al dividir el determinante de la matriz en la cual se remplazó en vector $b$ por tal variable, entre el determinante de la matriz $A$.\n",
    "\n",
    "#### Ejemplo:\n",
    "Para tener una guía de lo que se está realizando es sano escribir como sub-índice la variable que se está remplazando por el vector $b$, por ejemplo\n",
    "$$|A_x|=\\begin{vmatrix}0&1\\\\ \\:5&-6\\end{vmatrix}=-5.$$\n",
    "$$|A_y|=\\begin{vmatrix}3&0\\\\ \\:2&5\\end{vmatrix}=15.$$\n",
    "Por lo tanto \n",
    "$$x=\\frac{|A_x|}{|A|}=\\frac{-5}{-20}=\\frac{1}{4}.$$\n",
    "$$y=\\frac{|A_y|}{|A|}=\\frac{15}{-20}=-\\frac{3}{4}.$$"
   ]
  },
  {
   "cell_type": "markdown",
   "metadata": {},
   "source": [
    "#### Problema\n",
    "Un carpintero fabrica sillas, mesas y repisas.Se necesitan 15 minutos para lijar una silla, 5 para pintarla y 10 para barnizarla. Se necesitan 30 minutos para lijar una mesa, 12 para pintarla y 20 para barnizarla. Se necesitan 20 minutos para lijar una repisa, 10 para pintarla y 15 para barnizarla. La mesa de lijado está disponible 235  horas al mes, la mesa de pintura 95 horas al mes y la mesa de barnizado 160 horas. ¿Cuántas unidades de cada mueble deben fabricarse por mes de modo que las mesas de trabajo se ocupen todo el tiempo disponible?\n",
    "\n",
    "#### Solución\n",
    "Dado que las unidades de fabricación vienen dada en minutos y la catidad de tiempo total viene dada en horas, procederemos a convertir las horas en minutos, así\n",
    "\n",
    "$$\\text{Conversión de horas a minutos, debemos multiplicar por 60 }\\ \\ \\begin{cases} 235h\\rightarrow14100m\\\\95h\\rightarrow5700m\\\\160h\\rightarrow9600m\\end{cases}$$\n",
    "\n",
    "Por lo tanto el sistema se puede expresar como\n",
    "$$\\begin{cases}\n",
    "15s+30m+20r=14100\\\\\n",
    "5s+12m+10r=5700\\\\\n",
    "10s+20m+15r=9600\n",
    "\\end{cases}$$"
   ]
  },
  {
   "cell_type": "code",
   "execution_count": 43,
   "metadata": {
    "scrolled": true
   },
   "outputs": [
    {
     "data": {
      "image/png": "[encoded data removed]",
      "text/latex": [
       "$\\displaystyle \\left[\\begin{matrix}15 & 30 & 20\\\\5 & 12 & 10\\\\10 & 20 & 15\\end{matrix}\\right]$"
      ],
      "text/plain": [
       "⎡15  30  20⎤\n",
       "⎢          ⎥\n",
       "⎢5   12  10⎥\n",
       "⎢          ⎥\n",
       "⎣10  20  15⎦"
      ]
     },
     "execution_count": 43,
     "metadata": {},
     "output_type": "execute_result"
    }
   ],
   "source": [
    "A=Matrix([[15,30,20],[5,12,10],[10,20,15]])\n",
    "A"
   ]
  },
  {
   "cell_type": "code",
   "execution_count": 44,
   "metadata": {},
   "outputs": [
    {
     "data": {
      "image/png": "[encoded data removed]",
      "text/latex": [
       "$\\displaystyle 50$"
      ],
      "text/plain": [
       "50"
      ]
     },
     "execution_count": 44,
     "metadata": {},
     "output_type": "execute_result"
    }
   ],
   "source": [
    "A.det()"
   ]
  },
  {
   "cell_type": "markdown",
   "metadata": {},
   "source": [
    "En vista que el determinante de la matriz de coeficientes es diferente de cero, sabemos que el sistema tendrá una única solución, aplicando la regla de Cramer tenemos lo siguiente"
   ]
  },
  {
   "cell_type": "code",
   "execution_count": 45,
   "metadata": {},
   "outputs": [
    {
     "data": {
      "image/png": "[encoded data removed]",
      "text/latex": [
       "$\\displaystyle \\left[\\begin{matrix}14100 & 30 & 20\\\\5700 & 12 & 10\\\\9600 & 20 & 15\\end{matrix}\\right]$"
      ],
      "text/plain": [
       "⎡14100  30  20⎤\n",
       "⎢             ⎥\n",
       "⎢5700   12  10⎥\n",
       "⎢             ⎥\n",
       "⎣9600   20  15⎦"
      ]
     },
     "execution_count": 45,
     "metadata": {},
     "output_type": "execute_result"
    }
   ],
   "source": [
    "As=Matrix([[14100,30,20],[5700,12,10],[9600,20,15]])\n",
    "As"
   ]
  },
  {
   "cell_type": "code",
   "execution_count": 46,
   "metadata": {},
   "outputs": [
    {
     "data": {
      "image/png": "[encoded data removed]",
      "text/latex": [
       "$\\displaystyle \\left[\\begin{matrix}15 & 14100 & 20\\\\5 & 5700 & 10\\\\10 & 9600 & 15\\end{matrix}\\right]$"
      ],
      "text/plain": [
       "⎡15  14100  20⎤\n",
       "⎢             ⎥\n",
       "⎢5   5700   10⎥\n",
       "⎢             ⎥\n",
       "⎣10  9600   15⎦"
      ]
     },
     "execution_count": 46,
     "metadata": {},
     "output_type": "execute_result"
    }
   ],
   "source": [
    "Am=Matrix([[15,14100,20],[5,5700,10],[10,9600,15]])\n",
    "Am"
   ]
  },
  {
   "cell_type": "code",
   "execution_count": 47,
   "metadata": {},
   "outputs": [
    {
     "data": {
      "image/png": "[encoded data removed]",
      "text/latex": [
       "$\\displaystyle \\left[\\begin{matrix}15 & 30 & 14100\\\\5 & 12 & 5700\\\\10 & 20 & 9600\\end{matrix}\\right]$"
      ],
      "text/plain": [
       "⎡15  30  14100⎤\n",
       "⎢             ⎥\n",
       "⎢5   12  5700 ⎥\n",
       "⎢             ⎥\n",
       "⎣10  20  9600 ⎦"
      ]
     },
     "execution_count": 47,
     "metadata": {},
     "output_type": "execute_result"
    }
   ],
   "source": [
    "Ar=Matrix([[15,30,14100],[5,12,5700],[10,20,9600]])\n",
    "Ar"
   ]
  },
  {
   "cell_type": "markdown",
   "metadata": {},
   "source": [
    "Por lo tanto la solución del sistema de ecuaciones viene dada por:"
   ]
  },
  {
   "cell_type": "code",
   "execution_count": 48,
   "metadata": {},
   "outputs": [
    {
     "data": {
      "image/png": "[encoded data removed]",
      "text/latex": [
       "$\\displaystyle 180$"
      ],
      "text/plain": [
       "180"
      ]
     },
     "execution_count": 48,
     "metadata": {},
     "output_type": "execute_result"
    }
   ],
   "source": [
    "s=As.det()/A.det()\n",
    "s"
   ]
  },
  {
   "cell_type": "code",
   "execution_count": 49,
   "metadata": {},
   "outputs": [
    {
     "data": {
      "image/png": "[encoded data removed]",
      "text/latex": [
       "$\\displaystyle 300$"
      ],
      "text/plain": [
       "300"
      ]
     },
     "execution_count": 49,
     "metadata": {},
     "output_type": "execute_result"
    }
   ],
   "source": [
    "m=Am.det()/A.det()\n",
    "m"
   ]
  },
  {
   "cell_type": "code",
   "execution_count": 50,
   "metadata": {},
   "outputs": [
    {
     "data": {
      "image/png": "[encoded data removed]",
      "text/latex": [
       "$\\displaystyle 120$"
      ],
      "text/plain": [
       "120"
      ]
     },
     "execution_count": 50,
     "metadata": {},
     "output_type": "execute_result"
    }
   ],
   "source": [
    "r=Ar.det()/A.det()\n",
    "r"
   ]
  },
  {
   "cell_type": "markdown",
   "metadata": {},
   "source": [
    "Se deben fabricar mensualmete 180 sillas, 300 mesas y 120 repisas."
   ]
  }
 ],
 "metadata": {
  "author": "",
  "kernelspec": {
   "display_name": "Python 3",
   "language": "python",
   "name": "python3"
  },
  "language_info": {
   "codemirror_mode": {
    "name": "ipython",
    "version": 3
   },
   "file_extension": ".py",
   "mimetype": "text/x-python",
   "name": "python",
   "nbconvert_exporter": "python",
   "pygments_lexer": "ipython3",
   "version": "3.7.1"
  },
  "latex_envs": {
   "LaTeX_envs_menu_present": true,
   "autoclose": false,
   "autocomplete": true,
   "bibliofile": "biblio.bib",
   "cite_by": "apalike",
   "current_citInitial": 1,
   "eqLabelWithNumbers": true,
   "eqNumInitial": 1,
   "hotkeys": {
    "equation": "Ctrl-E",
    "itemize": "Ctrl-I"
   },
   "labels_anchors": false,
   "latex_user_defs": false,
   "report_style_numbering": false,
   "user_envs_cfg": false
  },
  "toc": {
   "base_numbering": 1,
   "nav_menu": {},
   "number_sections": true,
   "sideBar": true,
   "skip_h1_title": true,
   "title_cell": "Álgebra Lineal",
   "title_sidebar": "Contenidos",
   "toc_cell": true,
   "toc_position": {},
   "toc_section_display": true,
   "toc_window_display": false
  }
 },
 "nbformat": 4,
 "nbformat_minor": 4
}
